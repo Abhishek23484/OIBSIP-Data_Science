{
 "cells": [
  {
   "cell_type": "code",
   "execution_count": 1,
   "id": "b2c7c903",
   "metadata": {},
   "outputs": [],
   "source": [
    "import numpy as np\n",
    "import pandas as pd\n",
    "from sklearn.model_selection import train_test_split\n",
    "from sklearn.svm import SVC\n",
    "from sklearn.metrics import accuracy_score"
   ]
  },
  {
   "cell_type": "code",
   "execution_count": 2,
   "id": "62c2c871",
   "metadata": {},
   "outputs": [],
   "source": [
    "col = ['SepalLengthCm','SepalWidthCm','PetalLengthCm','PetalWidthCm','Species']\n",
    "df = pd.read_csv('Iris.csv',names=col)\n",
    "df = df[1:]"
   ]
  },
  {
   "cell_type": "code",
   "execution_count": 3,
   "id": "c9eee1a8",
   "metadata": {},
   "outputs": [],
   "source": [
    "infor = df.values\n",
    "x = infor[:,0:4]\n",
    "y = infor[:,4]\n",
    "y_infor = np.array([np.average(x[:, i][y==j].astype('float32')) for i in range (x.shape[1]) for j in (np.unique(y))])\n",
    "y_infor_reshape = y_infor.reshape(4,3)\n",
    "y_infor_reshape = np.swapaxes(y_infor_reshape,0,1)\n",
    "x_ax = np.arange(len(col)-1)\n",
    "w = 0.25"
   ]
  },
  {
   "cell_type": "code",
   "execution_count": 4,
   "id": "50032da1",
   "metadata": {},
   "outputs": [],
   "source": [
    "x_train,x_test,y_train,y_test = train_test_split(x,y,test_size=0.21)"
   ]
  },
  {
   "cell_type": "code",
   "execution_count": 5,
   "id": "c182b169",
   "metadata": {},
   "outputs": [
    {
     "data": {
      "text/plain": [
       "SVC()"
      ]
     },
     "execution_count": 5,
     "metadata": {},
     "output_type": "execute_result"
    }
   ],
   "source": [
    "svn = SVC()\n",
    "svn.fit(x_train,y_train)"
   ]
  },
  {
   "cell_type": "code",
   "execution_count": 6,
   "id": "f6eecb73",
   "metadata": {},
   "outputs": [
    {
     "name": "stdout",
     "output_type": "stream",
     "text": [
      "Prediction of Species: ['Iris-virginica' 'Iris-setosa' 'Iris-virginica']\n"
     ]
    }
   ],
   "source": [
    "x_n = np.array([[6.1, 2.7, 4.9, 1.7], [5, 3.5, 1.6, 0.4],[7.7, 3.9, 6.3, 1.1]])\n",
    "pred = svn.predict(x_n)\n",
    "print(\"Prediction of Species: {}\".format(pred))"
   ]
  },
  {
   "cell_type": "code",
   "execution_count": null,
   "id": "bc71a6c8",
   "metadata": {},
   "outputs": [],
   "source": []
  }
 ],
 "metadata": {
  "kernelspec": {
   "display_name": "Python 3 (ipykernel)",
   "language": "python",
   "name": "python3"
  },
  "language_info": {
   "codemirror_mode": {
    "name": "ipython",
    "version": 3
   },
   "file_extension": ".py",
   "mimetype": "text/x-python",
   "name": "python",
   "nbconvert_exporter": "python",
   "pygments_lexer": "ipython3",
   "version": "3.9.12"
  }
 },
 "nbformat": 4,
 "nbformat_minor": 5
}
